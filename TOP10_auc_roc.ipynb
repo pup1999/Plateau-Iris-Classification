{
  "nbformat": 4,
  "nbformat_minor": 0,
  "metadata": {
    "colab": {
      "name": "TOP10_auc_roc.ipynb",
      "provenance": [],
      "collapsed_sections": [],
      "authorship_tag": "ABX9TyNowcDF6F3GUZ5Uva6O8B93",
      "include_colab_link": true
    },
    "kernelspec": {
      "name": "python3",
      "display_name": "Python 3"
    }
  },
  "cells": [
    {
      "cell_type": "markdown",
      "metadata": {
        "id": "view-in-github",
        "colab_type": "text"
      },
      "source": [
        "<a href=\"https://colab.research.google.com/github/pup1999/Plateau-Iris-Classification/blob/main/TOP10_auc_roc.ipynb\" target=\"_parent\"><img src=\"https://colab.research.google.com/assets/colab-badge.svg\" alt=\"Open In Colab\"/></a>"
      ]
    },
    {
      "cell_type": "code",
      "metadata": {
        "colab": {
          "resources": {
            "http://localhost:8080/nbextensions/google.colab/files.js": {
              "data": "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",
              "ok": true,
              "headers": [
                [
                  "content-type",
                  "application/javascript"
                ]
              ],
              "status": 200,
              "status_text": ""
            }
          },
          "base_uri": "https://localhost:8080/",
          "height": 73
        },
        "id": "ofX89z9VgxkK",
        "outputId": "c3eadbd7-80b7-4f1f-89cd-1c6e314d8556"
      },
      "source": [
        "from google.colab import files\n",
        "uploaded = files.upload()"
      ],
      "execution_count": null,
      "outputs": [
        {
          "output_type": "display_data",
          "data": {
            "text/html": [
              "\n",
              "     <input type=\"file\" id=\"files-138b7abc-fa2f-4d6e-a4a2-2c81aa0ec4dd\" name=\"files[]\" multiple disabled\n",
              "        style=\"border:none\" />\n",
              "     <output id=\"result-138b7abc-fa2f-4d6e-a4a2-2c81aa0ec4dd\">\n",
              "      Upload widget is only available when the cell has been executed in the\n",
              "      current browser session. Please rerun this cell to enable.\n",
              "      </output>\n",
              "      <script src=\"/nbextensions/google.colab/files.js\"></script> "
            ],
            "text/plain": [
              "<IPython.core.display.HTML object>"
            ]
          },
          "metadata": {
            "tags": []
          }
        },
        {
          "output_type": "stream",
          "text": [
            "Saving output - 2021-02-24T092952.616.xlsx to output - 2021-02-24T092952.616.xlsx\n"
          ],
          "name": "stdout"
        }
      ]
    },
    {
      "cell_type": "code",
      "metadata": {
        "colab": {
          "base_uri": "https://localhost:8080/",
          "height": 382
        },
        "id": "_YcdF2I-uI4p",
        "outputId": "754d0240-062c-4e83-a5d5-fc714478d02e"
      },
      "source": [
        "from sklearn.datasets import make_classification\n",
        "from sklearn.linear_model import LogisticRegression\n",
        "from sklearn.model_selection import train_test_split\n",
        "from sklearn.metrics import roc_curve\n",
        "from sklearn.metrics import roc_auc_score\n",
        "from matplotlib import pyplot\n",
        "import pandas as pd\n",
        "#inputdata if train usecols A:G and sheet_name = \"ALL\" ,sheet_name = 'Sheet1'\n",
        "#if test usecols = A:G\n",
        "auc1 = pd.read_excel('/content/testWeight (12).xlsx',usecols = \"A:G\") #confident weigting\n",
        "auc2 = pd.read_excel('/content/testContentSmote.xlsx',usecols = \"A:G\") #prob(sigmoid) SMOTE\n",
        "auc3 = pd.read_excel('/content/testcontent.xlsx',usecols = \"A:D\") #adasyn prob(sigmoid)\n",
        "auc4 = pd.read_excel('/content/testing.xlsx',usecols = \"A:D\",sheet_name = 'Sheet1') #content prob(sigmoid)\n",
        "\n",
        "y_true_auc1 = auc1.loc[:,[\"actual\"]]\n",
        "y_score_auc1 = auc1.loc[:,[\"confident\"]]\n",
        "# generate a no skill prediction (majority class)\n",
        "ns_probs = [0 for _ in range(len(y_true_auc1))]\n",
        "# calculate scores\n",
        "lr_auc_auc1 = roc_auc_score(y_true_auc1, y_score_auc1)\n",
        "#middle line\n",
        "ns_auc = roc_auc_score(y_true_auc1, ns_probs)\n",
        "# summarize scores\n",
        "print('No Skill: ROC AUC=%.4f' % (ns_auc))\n",
        "print('auc1: ROC AUC=%.4f' % (lr_auc_auc1))\n",
        "# calculate roc curves\n",
        "ns_fpr, ns_tpr, _ = roc_curve(y_true_auc1, ns_probs)\n",
        "lr_fpr_auc1, lr_tpr_auc1, _ = roc_curve(y_true_auc1, y_score_auc1)\n",
        "\n",
        "y_true_auc2 = auc2.loc[:,[\"actual\"]]\n",
        "y_score_auc2 = auc2.loc[:,[\"prob(sigmoid)\"]]\n",
        "# calculate scores\n",
        "lr_auc_auc2 = roc_auc_score(y_true_auc2, y_score_auc2)\n",
        "# summarize scores\n",
        "print('auc2: ROC AUC=%.3f' % (lr_auc_auc2))\n",
        "# calculate roc curves\n",
        "lr_fpr_auc2, lr_tpr_auc2, _ = roc_curve(y_true_auc2, y_score_auc2)\n",
        "\n",
        "y_true_auc3 = auc3.loc[:,[\"actual\"]]\n",
        "y_score_auc3 = auc3.loc[:,[\"prob(sigmoid)\"]]\n",
        "lr_auc_auc3 = roc_auc_score(y_true_auc3, y_score_auc3)\n",
        "print('auc3: ROC AUC=%.3f' % (lr_auc_auc3))\n",
        "lr_fpr_auc3, lr_tpr_auc3, _ = roc_curve(y_true_auc3, y_score_auc3)\n",
        "\n",
        "y_true_auc4 = auc4 .loc[:,[\"actual\"]]\n",
        "y_score_auc4  = auc4 .loc[:,[\"prob(sigmoid)\"]]\n",
        "# calculate scores\n",
        "lr_auc_auc4  = roc_auc_score(y_true_auc4, y_score_auc4)\n",
        "# summarize scores\n",
        "print('auc4: ROC AUC=%.3f' % (lr_auc_auc4))\n",
        "# calculate roc curves\n",
        "lr_fpr_auc4 , lr_tpr_auc4 , _ = roc_curve(y_true_auc4 , y_score_auc4 )\n",
        "'''\n",
        "y_true_auc5 = auc5.loc[:,[\"actual\"]]\n",
        "y_score_auc5 = auc5.loc[:,[\"prob(sigmoid)\"]]\n",
        "# calculate scores\n",
        "lr_auc_auc5 = roc_auc_score(y_true_auc5, y_score_auc5)\n",
        "# summarize scores\n",
        "print('auc5: ROC AUC=%.3f' % (lr_auc_auc5))\n",
        "# calculate roc curves\n",
        "lr_fpr_auc5, lr_tpr_auc5, _ = roc_curve(y_true_auc5, y_score_auc5)\n",
        "\n",
        "y_true_auc6 = auc6.loc[:,[\"actual\"]]\n",
        "y_score_auc6 = auc6.loc[:,[\"prob(sigmoid)\"]]\n",
        "# calculate scores\n",
        "lr_auc_auc6 = roc_auc_score(y_true_auc6, y_score_auc6)\n",
        "# summarize scores\n",
        "print('auc6: ROC AUC=%.3f' % (lr_auc_auc6))\n",
        "# calculate roc curves\n",
        "lr_fpr_auc6, lr_tpr_auc6, _ = roc_curve(y_true_auc6, y_score_auc6)\n",
        "\n",
        "y_true_auc7 = auc7.loc[:,[\"actual\"]]\n",
        "y_score_auc7 = auc7.loc[:,[\"prob(sigmoid)\"]]\n",
        "# calculate scores\n",
        "lr_auc_auc7 = roc_auc_score(y_true_auc7, y_score_auc7)\n",
        "# summarize scores\n",
        "print('auc7: ROC AUC=%.3f' % (lr_auc_auc7))\n",
        "# calculate roc curves\n",
        "lr_fpr_auc7, lr_tpr_auc7, _ = roc_curve(y_true_auc7, y_score_auc7)\n",
        "\n",
        "y_true_auc8 = auc8.loc[:,[\"actual\"]]\n",
        "y_score_auc8 = auc8.loc[:,[\"prob(sigmoid)\"]]\n",
        "# calculate scores\n",
        "lr_auc_auc8 = roc_auc_score(y_true_auc8, y_score_auc8)\n",
        "# summarize scores\n",
        "print('auc8: ROC AUC=%.3f' % (lr_auc_auc8))\n",
        "# calculate roc curves\n",
        "lr_fpr_auc8, lr_tpr_auc8, _ = roc_curve(y_true_auc8, y_score_auc8)\n",
        "\n",
        "y_true_auc9 = auc9.loc[:,[\"actual\"]]\n",
        "y_score_auc9 = auc9.loc[:,[\"prob(sigmoid)\"]]\n",
        "# calculate scores\n",
        "lr_auc_auc9 = roc_auc_score(y_true_auc9, y_score_auc9)\n",
        "# summarize scores\n",
        "print('auc9: ROC AUC=%.3f' % (lr_auc_auc9))\n",
        "# calculate roc curves\n",
        "lr_fpr_auc9, lr_tpr_auc9, _ = roc_curve(y_true_auc9, y_score_auc9)\n",
        "\n",
        "y_true_auc10 = auc10.loc[:,[\"actual\"]]\n",
        "y_score_auc10 = auc10.loc[:,[\"prob(sigmoid)\"]]\n",
        "# calculate scores\n",
        "lr_auc_auc10 = roc_auc_score(y_true_auc10, y_score_auc10)\n",
        "# summarize scores\n",
        "print('auc10: ROC AUC=%.3f' % (lr_auc_auc10))\n",
        "# calculate roc curves\n",
        "lr_fpr_auc10, lr_tpr_auc10, _ = roc_curve(y_true_auc10, y_score_auc10)\n",
        "'''\n",
        "# plot the roc curve for the model\n",
        "pyplot.plot(lr_fpr_auc1, lr_tpr_auc1, marker='', label='weighting (area = {:.4f})'.format(lr_auc_auc1),linewidth=1.0)\n",
        "pyplot.plot(lr_fpr_auc2, lr_tpr_auc2, marker='', label='SMOTE (area = {:.4f})'.format(lr_auc_auc2),linewidth=1.0)\n",
        "pyplot.plot(lr_fpr_auc3, lr_tpr_auc3, marker='', label='ADASYN (area = {:.4f})'.format(lr_auc_auc3),linewidth=1.0)\n",
        "pyplot.plot(lr_fpr_auc4, lr_tpr_auc4, marker='', label='Imbalanced (area = {:.4f})'.format(lr_auc_auc4),linewidth=1.0)\n",
        "\n",
        "'''\n",
        "pyplot.plot(lr_fpr_auc4, lr_tpr_auc4, marker='', label='20epochsC(NP)S(P)w1.25(2layer) (area = {:.3f})'.format(lr_auc_auc4),linewidth=1.0)\n",
        "pyplot.plot(lr_fpr_auc5, lr_tpr_auc5, marker='', label='25epochsC(NP)S(NP)w1.0(2layer) (area = {:.3f})'.format(lr_auc_auc5),linewidth=1.0)\n",
        "pyplot.plot(lr_fpr_auc6, lr_tpr_auc6, marker='', label='25epochsC(NP)S(NP)w1.25(2layer) (area = {:.3f})'.format(lr_auc_auc6),linewidth=1.0)\n",
        "pyplot.plot(lr_fpr_auc7, lr_tpr_auc7, marker='', label='25epochsC(NP)S(P)w1.25(2layer) (area = {:.3f})'.format(lr_auc_auc7),linewidth=1.0)\n",
        "pyplot.plot(lr_fpr_auc8, lr_tpr_auc8, marker='', label='30epochsC(NP)S(NP)w1.25(2layer) (area = {:.3f})'.format(lr_auc_auc8),linewidth=1.0)\n",
        "pyplot.plot(lr_fpr_auc9, lr_tpr_auc9, marker='', label='30epochsC(NP)S(NP)w1.25(3layer) (area = {:.3f})'.format(lr_auc_auc9),linewidth=1.0)\n",
        "pyplot.plot(lr_fpr_auc10, lr_tpr_auc10, marker='', label='30epochsC(NP)S(P)w1.25(2layer) (area = {:.3f})'.format(lr_auc_auc10),linewidth=1.0)\n",
        "'''\n",
        "\n",
        "# axis labels\n",
        "pyplot.plot(ns_fpr, ns_tpr, linestyle='--')\n",
        "pyplot.xlabel('1-Specificity(False Positive Rate)')\n",
        "pyplot.ylabel('Sensitivity(True Positive Rate)')\n",
        "# title\n",
        "#pyplot.title(\"ROC Curves for Loss Value Classification weight 1.25 & 1.0 with ADASYN\")\n",
        "pyplot.title(\"ROC Curves for AS-OCT Classification\")\n",
        "# show the legend\n",
        "pyplot.legend()\n",
        "# show the plot\n",
        "pyplot.show()"
      ],
      "execution_count": null,
      "outputs": [
        {
          "output_type": "stream",
          "text": [
            "No Skill: ROC AUC=0.5000\n",
            "auc1: ROC AUC=0.9337\n",
            "auc2: ROC AUC=0.927\n",
            "auc3: ROC AUC=0.927\n",
            "auc4: ROC AUC=0.930\n"
          ],
          "name": "stdout"
        },
        {
          "output_type": "display_data",
          "data": {
            "image/png": "[encoded data removed]",
            "text/plain": [
              "<Figure size 432x288 with 1 Axes>"
            ]
          },
          "metadata": {
            "tags": [],
            "needs_background": "light"
          }
        }
      ]
    }
  ]
}